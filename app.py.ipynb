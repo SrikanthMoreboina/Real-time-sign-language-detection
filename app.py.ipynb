{
 "cells": [
  {
   "cell_type": "code",
   "execution_count": null,
   "id": "f5b7f4c4",
   "metadata": {},
   "outputs": [
    {
     "name": "stdout",
     "output_type": "stream",
     "text": [
      " * Serving Flask app \"__main__\" (lazy loading)\n",
      " * Environment: production\n",
      "\u001b[31m   WARNING: This is a development server. Do not use it in a production deployment.\u001b[0m\n",
      "\u001b[2m   Use a production WSGI server instead.\u001b[0m\n",
      " * Debug mode: off\n"
     ]
    },
    {
     "name": "stderr",
     "output_type": "stream",
     "text": [
      " * Running on http://127.0.0.1:5000/ (Press CTRL+C to quit)\n",
      "127.0.0.1 - - [29/Sep/2024 02:01:22] \"GET / HTTP/1.1\" 200 -\n",
      "127.0.0.1 - - [29/Sep/2024 02:01:23] \"GET /current_sign HTTP/1.1\" 200 -\n",
      "127.0.0.1 - - [29/Sep/2024 02:01:24] \"GET /current_sign HTTP/1.1\" 200 -\n"
     ]
    },
    {
     "name": "stdout",
     "output_type": "stream",
     "text": [
      "\n"
     ]
    },
    {
     "name": "stderr",
     "output_type": "stream",
     "text": [
      "127.0.0.1 - - [29/Sep/2024 02:01:25] \"GET /current_sign HTTP/1.1\" 200 -\n"
     ]
    },
    {
     "name": "stdout",
     "output_type": "stream",
     "text": [
      "0: 480x640 (no detections), 328.0ms\n",
      "Speed: 4.0ms preprocess, 328.0ms inference, 6.0ms postprocess per image at shape (1, 3, 480, 640)\n"
     ]
    },
    {
     "name": "stderr",
     "output_type": "stream",
     "text": [
      "127.0.0.1 - - [29/Sep/2024 02:01:25] \"GET /video_feed HTTP/1.1\" 200 -\n"
     ]
    },
    {
     "name": "stdout",
     "output_type": "stream",
     "text": [
      "\n"
     ]
    },
    {
     "name": "stderr",
     "output_type": "stream",
     "text": [
      "127.0.0.1 - - [29/Sep/2024 02:01:26] \"GET /current_sign HTTP/1.1\" 200 -\n"
     ]
    },
    {
     "name": "stdout",
     "output_type": "stream",
     "text": [
      "0: 480x640 (no detections), 271.6ms\n",
      "Speed: 1.5ms preprocess, 271.6ms inference, 1.0ms postprocess per image at shape (1, 3, 480, 640)\n"
     ]
    },
    {
     "name": "stderr",
     "output_type": "stream",
     "text": [
      "127.0.0.1 - - [29/Sep/2024 02:01:26] \"GET /favicon.ico HTTP/1.1\" 404 -\n"
     ]
    },
    {
     "name": "stdout",
     "output_type": "stream",
     "text": [
      "\n",
      "0: 480x640 (no detections), 271.6ms\n",
      "Speed: 1.0ms preprocess, 271.6ms inference, 0.0ms postprocess per image at shape (1, 3, 480, 640)\n",
      "\n",
      "0: 480x640 (no detections), 263.9ms\n",
      "Speed: 1.0ms preprocess, 263.9ms inference, 1.0ms postprocess per image at shape (1, 3, 480, 640)\n",
      "\n"
     ]
    },
    {
     "name": "stderr",
     "output_type": "stream",
     "text": [
      "127.0.0.1 - - [29/Sep/2024 02:01:27] \"GET /current_sign HTTP/1.1\" 200 -\n"
     ]
    },
    {
     "name": "stdout",
     "output_type": "stream",
     "text": [
      "0: 480x640 (no detections), 274.0ms\n",
      "Speed: 3.0ms preprocess, 274.0ms inference, 0.0ms postprocess per image at shape (1, 3, 480, 640)\n",
      "\n",
      "0: 480x640 (no detections), 260.0ms\n",
      "Speed: 2.0ms preprocess, 260.0ms inference, 0.0ms postprocess per image at shape (1, 3, 480, 640)\n",
      "\n",
      "0: 480x640 (no detections), 266.0ms\n",
      "Speed: 1.0ms preprocess, 266.0ms inference, 0.0ms postprocess per image at shape (1, 3, 480, 640)\n",
      "\n",
      "0: 480x640 (no detections), 260.0ms\n",
      "Speed: 1.0ms preprocess, 260.0ms inference, 0.0ms postprocess per image at shape (1, 3, 480, 640)\n",
      "\n"
     ]
    },
    {
     "name": "stderr",
     "output_type": "stream",
     "text": [
      "127.0.0.1 - - [29/Sep/2024 02:01:28] \"GET /current_sign HTTP/1.1\" 200 -\n"
     ]
    },
    {
     "name": "stdout",
     "output_type": "stream",
     "text": [
      "0: 480x640 (no detections), 269.6ms\n",
      "Speed: 2.0ms preprocess, 269.6ms inference, 0.0ms postprocess per image at shape (1, 3, 480, 640)\n",
      "\n",
      "0: 480x640 (no detections), 260.5ms\n",
      "Speed: 2.0ms preprocess, 260.5ms inference, 1.0ms postprocess per image at shape (1, 3, 480, 640)\n",
      "\n",
      "0: 480x640 (no detections), 262.6ms\n",
      "Speed: 1.0ms preprocess, 262.6ms inference, 1.0ms postprocess per image at shape (1, 3, 480, 640)\n",
      "\n"
     ]
    },
    {
     "name": "stderr",
     "output_type": "stream",
     "text": [
      "127.0.0.1 - - [29/Sep/2024 02:01:29] \"GET /current_sign HTTP/1.1\" 200 -\n"
     ]
    },
    {
     "name": "stdout",
     "output_type": "stream",
     "text": [
      "0: 480x640 (no detections), 265.6ms\n",
      "Speed: 2.0ms preprocess, 265.6ms inference, 1.0ms postprocess per image at shape (1, 3, 480, 640)\n",
      "\n",
      "0: 480x640 (no detections), 263.6ms\n",
      "Speed: 2.0ms preprocess, 263.6ms inference, 1.0ms postprocess per image at shape (1, 3, 480, 640)\n",
      "\n",
      "0: 480x640 (no detections), 269.6ms\n",
      "Speed: 1.0ms preprocess, 269.6ms inference, 1.0ms postprocess per image at shape (1, 3, 480, 640)\n",
      "\n"
     ]
    },
    {
     "name": "stderr",
     "output_type": "stream",
     "text": [
      "127.0.0.1 - - [29/Sep/2024 02:01:30] \"GET /current_sign HTTP/1.1\" 200 -\n"
     ]
    },
    {
     "name": "stdout",
     "output_type": "stream",
     "text": [
      "0: 480x640 (no detections), 271.6ms\n",
      "Speed: 2.0ms preprocess, 271.6ms inference, 1.0ms postprocess per image at shape (1, 3, 480, 640)\n",
      "\n",
      "0: 480x640 (no detections), 267.6ms\n",
      "Speed: 1.0ms preprocess, 267.6ms inference, 0.0ms postprocess per image at shape (1, 3, 480, 640)\n",
      "\n"
     ]
    },
    {
     "name": "stderr",
     "output_type": "stream",
     "text": [
      "C:\\Users\\srika\\anaconda3\\lib\\site-packages\\google\\protobuf\\symbol_database.py:55: UserWarning: SymbolDatabase.GetPrototype() is deprecated. Please use message_factory.GetMessageClass() instead. SymbolDatabase.GetPrototype() will be removed soon.\n",
      "  warnings.warn('SymbolDatabase.GetPrototype() is deprecated. Please '\n"
     ]
    },
    {
     "name": "stdout",
     "output_type": "stream",
     "text": [
      "0: 480x640 (no detections), 269.6ms\n",
      "Speed: 2.0ms preprocess, 269.6ms inference, 1.0ms postprocess per image at shape (1, 3, 480, 640)\n",
      "\n"
     ]
    },
    {
     "name": "stderr",
     "output_type": "stream",
     "text": [
      "127.0.0.1 - - [29/Sep/2024 02:01:31] \"GET /current_sign HTTP/1.1\" 200 -\n"
     ]
    },
    {
     "name": "stdout",
     "output_type": "stream",
     "text": [
      "0: 480x640 1 hello, 262.0ms\n",
      "Speed: 2.0ms preprocess, 262.0ms inference, 9.0ms postprocess per image at shape (1, 3, 480, 640)\n",
      "\n",
      "0: 480x640 1 hello, 265.6ms\n",
      "Speed: 1.0ms preprocess, 265.6ms inference, 1.0ms postprocess per image at shape (1, 3, 480, 640)\n",
      "\n",
      "0: 480x640 1 hello, 268.6ms\n",
      "Speed: 1.0ms preprocess, 268.6ms inference, 0.0ms postprocess per image at shape (1, 3, 480, 640)\n",
      "\n",
      "0: 480x640 (no detections), 267.0ms\n",
      "Speed: 2.0ms preprocess, 267.0ms inference, 1.0ms postprocess per image at shape (1, 3, 480, 640)\n"
     ]
    },
    {
     "name": "stderr",
     "output_type": "stream",
     "text": [
      "127.0.0.1 - - [29/Sep/2024 02:01:32] \"GET /current_sign HTTP/1.1\" 200 -\n"
     ]
    },
    {
     "name": "stdout",
     "output_type": "stream",
     "text": [
      "\n",
      "0: 480x640 1 hello, 274.6ms\n",
      "Speed: 1.0ms preprocess, 274.6ms inference, 0.0ms postprocess per image at shape (1, 3, 480, 640)\n",
      "\n",
      "0: 480x640 1 hello, 272.6ms\n",
      "Speed: 1.0ms preprocess, 272.6ms inference, 1.0ms postprocess per image at shape (1, 3, 480, 640)\n",
      "\n",
      "0: 480x640 1 hello, 269.6ms\n",
      "Speed: 1.0ms preprocess, 269.6ms inference, 1.0ms postprocess per image at shape (1, 3, 480, 640)\n"
     ]
    },
    {
     "name": "stderr",
     "output_type": "stream",
     "text": [
      "127.0.0.1 - - [29/Sep/2024 02:01:33] \"GET /current_sign HTTP/1.1\" 200 -\n"
     ]
    },
    {
     "name": "stdout",
     "output_type": "stream",
     "text": [
      "\n",
      "0: 480x640 1 hello, 269.1ms\n",
      "Speed: 1.0ms preprocess, 269.1ms inference, 1.0ms postprocess per image at shape (1, 3, 480, 640)\n",
      "\n",
      "0: 480x640 (no detections), 275.6ms\n",
      "Speed: 1.0ms preprocess, 275.6ms inference, 0.0ms postprocess per image at shape (1, 3, 480, 640)\n",
      "\n",
      "0: 480x640 1 hello, 272.6ms\n",
      "Speed: 1.0ms preprocess, 272.6ms inference, 1.0ms postprocess per image at shape (1, 3, 480, 640)\n",
      "\n"
     ]
    },
    {
     "name": "stderr",
     "output_type": "stream",
     "text": [
      "127.0.0.1 - - [29/Sep/2024 02:01:34] \"GET /current_sign HTTP/1.1\" 200 -\n"
     ]
    },
    {
     "name": "stdout",
     "output_type": "stream",
     "text": [
      "0: 480x640 1 hello, 274.6ms\n",
      "Speed: 1.0ms preprocess, 274.6ms inference, 1.0ms postprocess per image at shape (1, 3, 480, 640)\n",
      "\n",
      "0: 480x640 1 hello, 274.0ms\n",
      "Speed: 2.2ms preprocess, 274.0ms inference, 0.0ms postprocess per image at shape (1, 3, 480, 640)\n",
      "\n",
      "0: 480x640 (no detections), 272.6ms\n",
      "Speed: 1.0ms preprocess, 272.6ms inference, 0.0ms postprocess per image at shape (1, 3, 480, 640)\n"
     ]
    },
    {
     "name": "stderr",
     "output_type": "stream",
     "text": [
      "127.0.0.1 - - [29/Sep/2024 02:01:35] \"GET /current_sign HTTP/1.1\" 200 -\n"
     ]
    },
    {
     "name": "stdout",
     "output_type": "stream",
     "text": [
      "\n",
      "0: 480x640 1 hello, 274.0ms\n",
      "Speed: 1.0ms preprocess, 274.0ms inference, 1.0ms postprocess per image at shape (1, 3, 480, 640)\n",
      "\n",
      "0: 480x640 (no detections), 275.6ms\n",
      "Speed: 2.0ms preprocess, 275.6ms inference, 0.0ms postprocess per image at shape (1, 3, 480, 640)\n",
      "\n",
      "0: 480x640 (no detections), 275.6ms\n",
      "Speed: 2.0ms preprocess, 275.6ms inference, 1.0ms postprocess per image at shape (1, 3, 480, 640)\n"
     ]
    },
    {
     "name": "stderr",
     "output_type": "stream",
     "text": [
      "127.0.0.1 - - [29/Sep/2024 02:01:36] \"GET /current_sign HTTP/1.1\" 200 -\n"
     ]
    },
    {
     "name": "stdout",
     "output_type": "stream",
     "text": [
      "\n",
      "0: 480x640 1 iloveyou, 1 you, 278.6ms\n",
      "Speed: 1.0ms preprocess, 278.6ms inference, 4.0ms postprocess per image at shape (1, 3, 480, 640)\n",
      "\n",
      "0: 480x640 1 you, 281.3ms\n",
      "Speed: 1.0ms preprocess, 281.3ms inference, 1.0ms postprocess per image at shape (1, 3, 480, 640)\n",
      "\n",
      "0: 480x640 (no detections), 279.6ms\n",
      "Speed: 1.0ms preprocess, 279.6ms inference, 1.0ms postprocess per image at shape (1, 3, 480, 640)\n"
     ]
    },
    {
     "name": "stderr",
     "output_type": "stream",
     "text": [
      "127.0.0.1 - - [29/Sep/2024 02:01:37] \"GET /current_sign HTTP/1.1\" 200 -\n"
     ]
    },
    {
     "name": "stdout",
     "output_type": "stream",
     "text": [
      "\n",
      "0: 480x640 1 iloveyou, 278.6ms\n",
      "Speed: 1.0ms preprocess, 278.6ms inference, 1.0ms postprocess per image at shape (1, 3, 480, 640)\n",
      "\n",
      "0: 480x640 (no detections), 273.6ms\n",
      "Speed: 1.0ms preprocess, 273.6ms inference, 1.0ms postprocess per image at shape (1, 3, 480, 640)\n",
      "\n",
      "0: 480x640 1 you, 278.6ms\n",
      "Speed: 1.0ms preprocess, 278.6ms inference, 1.0ms postprocess per image at shape (1, 3, 480, 640)\n"
     ]
    },
    {
     "name": "stderr",
     "output_type": "stream",
     "text": [
      "127.0.0.1 - - [29/Sep/2024 02:01:38] \"GET /current_sign HTTP/1.1\" 200 -\n"
     ]
    },
    {
     "name": "stdout",
     "output_type": "stream",
     "text": [
      "\n",
      "0: 480x640 1 iloveyou, 277.6ms\n",
      "Speed: 2.0ms preprocess, 277.6ms inference, 1.0ms postprocess per image at shape (1, 3, 480, 640)\n",
      "\n",
      "0: 480x640 1 iloveyou, 280.6ms\n",
      "Speed: 1.0ms preprocess, 280.6ms inference, 1.0ms postprocess per image at shape (1, 3, 480, 640)\n",
      "\n",
      "0: 480x640 (no detections), 282.6ms\n",
      "Speed: 2.0ms preprocess, 282.6ms inference, 1.0ms postprocess per image at shape (1, 3, 480, 640)\n",
      "\n"
     ]
    },
    {
     "name": "stderr",
     "output_type": "stream",
     "text": [
      "127.0.0.1 - - [29/Sep/2024 02:01:39] \"GET /current_sign HTTP/1.1\" 200 -\n"
     ]
    },
    {
     "name": "stdout",
     "output_type": "stream",
     "text": [
      "0: 480x640 (no detections), 299.6ms\n",
      "Speed: 2.0ms preprocess, 299.6ms inference, 0.0ms postprocess per image at shape (1, 3, 480, 640)\n",
      "\n",
      "0: 480x640 (no detections), 290.6ms\n",
      "Speed: 1.0ms preprocess, 290.6ms inference, 0.0ms postprocess per image at shape (1, 3, 480, 640)\n",
      "\n",
      "0: 480x640 (no detections), 286.6ms\n",
      "Speed: 1.0ms preprocess, 286.6ms inference, 0.0ms postprocess per image at shape (1, 3, 480, 640)\n",
      "\n"
     ]
    },
    {
     "name": "stderr",
     "output_type": "stream",
     "text": [
      "127.0.0.1 - - [29/Sep/2024 02:01:40] \"GET /current_sign HTTP/1.1\" 200 -\n"
     ]
    },
    {
     "name": "stdout",
     "output_type": "stream",
     "text": [
      "0: 480x640 (no detections), 292.6ms\n",
      "Speed: 2.0ms preprocess, 292.6ms inference, 0.0ms postprocess per image at shape (1, 3, 480, 640)\n",
      "\n",
      "0: 480x640 (no detections), 295.6ms\n",
      "Speed: 2.0ms preprocess, 295.6ms inference, 1.0ms postprocess per image at shape (1, 3, 480, 640)\n",
      "\n",
      "0: 480x640 (no detections), 282.0ms\n",
      "Speed: 2.0ms preprocess, 282.0ms inference, 1.0ms postprocess per image at shape (1, 3, 480, 640)\n",
      "\n"
     ]
    },
    {
     "name": "stderr",
     "output_type": "stream",
     "text": [
      "127.0.0.1 - - [29/Sep/2024 02:01:41] \"GET /current_sign HTTP/1.1\" 200 -\n"
     ]
    },
    {
     "name": "stdout",
     "output_type": "stream",
     "text": [
      "0: 480x640 (no detections), 286.6ms\n",
      "Speed: 2.0ms preprocess, 286.6ms inference, 0.0ms postprocess per image at shape (1, 3, 480, 640)\n",
      "\n",
      "0: 480x640 (no detections), 279.6ms\n",
      "Speed: 1.0ms preprocess, 279.6ms inference, 0.0ms postprocess per image at shape (1, 3, 480, 640)\n",
      "\n",
      "0: 480x640 (no detections), 279.6ms\n",
      "Speed: 2.0ms preprocess, 279.6ms inference, 0.0ms postprocess per image at shape (1, 3, 480, 640)\n"
     ]
    },
    {
     "name": "stderr",
     "output_type": "stream",
     "text": [
      "127.0.0.1 - - [29/Sep/2024 02:01:42] \"GET /current_sign HTTP/1.1\" 200 -\n"
     ]
    },
    {
     "name": "stdout",
     "output_type": "stream",
     "text": [
      "\n"
     ]
    },
    {
     "name": "stderr",
     "output_type": "stream",
     "text": [
      "127.0.0.1 - - [29/Sep/2024 02:01:42] \"GET /current_sign HTTP/1.1\" 200 -\n"
     ]
    },
    {
     "name": "stdout",
     "output_type": "stream",
     "text": [
      "0: 480x640 (no detections), 302.5ms\n",
      "Speed: 2.0ms preprocess, 302.5ms inference, 0.0ms postprocess per image at shape (1, 3, 480, 640)\n",
      "\n",
      "0: 480x640 (no detections), 283.6ms\n",
      "Speed: 2.0ms preprocess, 283.6ms inference, 1.0ms postprocess per image at shape (1, 3, 480, 640)\n",
      "\n"
     ]
    },
    {
     "name": "stderr",
     "output_type": "stream",
     "text": [
      "[2024-09-29 02:01:42,745] ERROR in app: Exception on /audio/hello [GET]\n",
      "Traceback (most recent call last):\n",
      "  File \"C:\\Users\\srika\\anaconda3\\lib\\site-packages\\flask\\app.py\", line 2447, in wsgi_app\n",
      "    response = self.full_dispatch_request()\n",
      "  File \"C:\\Users\\srika\\anaconda3\\lib\\site-packages\\flask\\app.py\", line 1952, in full_dispatch_request\n",
      "    rv = self.handle_user_exception(e)\n",
      "  File \"C:\\Users\\srika\\anaconda3\\lib\\site-packages\\flask\\app.py\", line 1821, in handle_user_exception\n",
      "    reraise(exc_type, exc_value, tb)\n",
      "  File \"C:\\Users\\srika\\anaconda3\\lib\\site-packages\\flask\\_compat.py\", line 39, in reraise\n",
      "    raise value\n",
      "  File \"C:\\Users\\srika\\anaconda3\\lib\\site-packages\\flask\\app.py\", line 1950, in full_dispatch_request\n",
      "    rv = self.dispatch_request()\n",
      "  File \"C:\\Users\\srika\\anaconda3\\lib\\site-packages\\flask\\app.py\", line 1936, in dispatch_request\n",
      "    return self.view_functions[rule.endpoint](**req.view_args)\n",
      "  File \"C:\\Users\\srika\\AppData\\Local\\Temp\\ipykernel_25140\\2052660683.py\", line 100, in audio\n",
      "    return send_file(audio_stream, mimetype='audio/mpeg', as_attachment=False, download_name=f\"{sign}.mp3\")\n",
      "TypeError: send_file() got an unexpected keyword argument 'download_name'\n",
      "127.0.0.1 - - [29/Sep/2024 02:01:42] \"GET /audio/hello HTTP/1.1\" 500 -\n"
     ]
    },
    {
     "name": "stdout",
     "output_type": "stream",
     "text": [
      "0: 480x640 (no detections), 286.6ms\n",
      "Speed: 1.0ms preprocess, 286.6ms inference, 0.0ms postprocess per image at shape (1, 3, 480, 640)\n",
      "\n"
     ]
    },
    {
     "name": "stderr",
     "output_type": "stream",
     "text": [
      "127.0.0.1 - - [29/Sep/2024 02:01:43] \"GET /current_sign HTTP/1.1\" 200 -\n"
     ]
    },
    {
     "name": "stdout",
     "output_type": "stream",
     "text": [
      "0: 480x640 (no detections), 286.6ms\n",
      "Speed: 2.0ms preprocess, 286.6ms inference, 1.0ms postprocess per image at shape (1, 3, 480, 640)\n",
      "\n"
     ]
    },
    {
     "name": "stderr",
     "output_type": "stream",
     "text": [
      "127.0.0.1 - - [29/Sep/2024 02:01:43] \"GET /current_sign HTTP/1.1\" 200 -\n"
     ]
    },
    {
     "name": "stdout",
     "output_type": "stream",
     "text": [
      "0: 480x640 (no detections), 297.3ms\n",
      "Speed: 1.0ms preprocess, 297.3ms inference, 1.0ms postprocess per image at shape (1, 3, 480, 640)\n",
      "\n"
     ]
    },
    {
     "name": "stderr",
     "output_type": "stream",
     "text": [
      "[2024-09-29 02:01:43,775] ERROR in app: Exception on /audio/hello [GET]\n",
      "Traceback (most recent call last):\n",
      "  File \"C:\\Users\\srika\\anaconda3\\lib\\site-packages\\flask\\app.py\", line 2447, in wsgi_app\n",
      "    response = self.full_dispatch_request()\n",
      "  File \"C:\\Users\\srika\\anaconda3\\lib\\site-packages\\flask\\app.py\", line 1952, in full_dispatch_request\n",
      "    rv = self.handle_user_exception(e)\n",
      "  File \"C:\\Users\\srika\\anaconda3\\lib\\site-packages\\flask\\app.py\", line 1821, in handle_user_exception\n",
      "    reraise(exc_type, exc_value, tb)\n",
      "  File \"C:\\Users\\srika\\anaconda3\\lib\\site-packages\\flask\\_compat.py\", line 39, in reraise\n",
      "    raise value\n",
      "  File \"C:\\Users\\srika\\anaconda3\\lib\\site-packages\\flask\\app.py\", line 1950, in full_dispatch_request\n",
      "    rv = self.dispatch_request()\n",
      "  File \"C:\\Users\\srika\\anaconda3\\lib\\site-packages\\flask\\app.py\", line 1936, in dispatch_request\n",
      "    return self.view_functions[rule.endpoint](**req.view_args)\n",
      "  File \"C:\\Users\\srika\\AppData\\Local\\Temp\\ipykernel_25140\\2052660683.py\", line 100, in audio\n",
      "    return send_file(audio_stream, mimetype='audio/mpeg', as_attachment=False, download_name=f\"{sign}.mp3\")\n",
      "TypeError: send_file() got an unexpected keyword argument 'download_name'\n",
      "127.0.0.1 - - [29/Sep/2024 02:01:43] \"GET /audio/hello HTTP/1.1\" 500 -\n"
     ]
    },
    {
     "name": "stdout",
     "output_type": "stream",
     "text": [
      "0: 480x640 (no detections), 291.6ms\n",
      "Speed: 1.0ms preprocess, 291.6ms inference, 1.0ms postprocess per image at shape (1, 3, 480, 640)\n",
      "\n"
     ]
    },
    {
     "name": "stderr",
     "output_type": "stream",
     "text": [
      "127.0.0.1 - - [29/Sep/2024 02:01:44] \"GET /current_sign HTTP/1.1\" 200 -\n"
     ]
    },
    {
     "name": "stdout",
     "output_type": "stream",
     "text": [
      "0: 480x640 (no detections), 300.2ms\n",
      "Speed: 1.0ms preprocess, 300.2ms inference, 1.0ms postprocess per image at shape (1, 3, 480, 640)\n",
      "\n",
      "0: 480x640 (no detections), 295.6ms\n",
      "Speed: 1.0ms preprocess, 295.6ms inference, 1.0ms postprocess per image at shape (1, 3, 480, 640)\n",
      "\n",
      "0: 480x640 (no detections), 281.5ms\n",
      "Speed: 2.0ms preprocess, 281.5ms inference, 1.0ms postprocess per image at shape (1, 3, 480, 640)\n",
      "\n"
     ]
    },
    {
     "name": "stderr",
     "output_type": "stream",
     "text": [
      "127.0.0.1 - - [29/Sep/2024 02:01:45] \"GET /current_sign HTTP/1.1\" 200 -\n"
     ]
    },
    {
     "name": "stdout",
     "output_type": "stream",
     "text": [
      "0: 480x640 (no detections), 291.1ms\n",
      "Speed: 0.5ms preprocess, 291.1ms inference, 1.0ms postprocess per image at shape (1, 3, 480, 640)\n",
      "\n",
      "0: 480x640 (no detections), 288.6ms\n",
      "Speed: 1.0ms preprocess, 288.6ms inference, 1.0ms postprocess per image at shape (1, 3, 480, 640)\n",
      "\n",
      "0: 480x640 (no detections), 285.6ms\n",
      "Speed: 2.0ms preprocess, 285.6ms inference, 0.0ms postprocess per image at shape (1, 3, 480, 640)\n",
      "\n"
     ]
    },
    {
     "name": "stderr",
     "output_type": "stream",
     "text": [
      "127.0.0.1 - - [29/Sep/2024 02:01:46] \"GET /current_sign HTTP/1.1\" 200 -\n"
     ]
    },
    {
     "name": "stdout",
     "output_type": "stream",
     "text": [
      "0: 480x640 (no detections), 291.6ms\n",
      "Speed: 2.0ms preprocess, 291.6ms inference, 1.0ms postprocess per image at shape (1, 3, 480, 640)\n",
      "\n",
      "0: 480x640 (no detections), 285.6ms\n",
      "Speed: 2.0ms preprocess, 285.6ms inference, 1.0ms postprocess per image at shape (1, 3, 480, 640)\n",
      "\n",
      "0: 480x640 (no detections), 279.9ms\n",
      "Speed: 2.0ms preprocess, 279.9ms inference, 1.0ms postprocess per image at shape (1, 3, 480, 640)\n",
      "\n"
     ]
    },
    {
     "name": "stderr",
     "output_type": "stream",
     "text": [
      "127.0.0.1 - - [29/Sep/2024 02:01:47] \"GET /current_sign HTTP/1.1\" 200 -\n"
     ]
    },
    {
     "name": "stdout",
     "output_type": "stream",
     "text": [
      "0: 480x640 (no detections), 290.7ms\n",
      "Speed: 1.0ms preprocess, 290.7ms inference, 0.0ms postprocess per image at shape (1, 3, 480, 640)\n",
      "\n",
      "0: 480x640 (no detections), 288.6ms\n",
      "Speed: 1.0ms preprocess, 288.6ms inference, 0.0ms postprocess per image at shape (1, 3, 480, 640)\n",
      "\n",
      "0: 480x640 (no detections), 285.1ms\n",
      "Speed: 1.0ms preprocess, 285.1ms inference, 0.0ms postprocess per image at shape (1, 3, 480, 640)\n",
      "\n"
     ]
    },
    {
     "name": "stderr",
     "output_type": "stream",
     "text": [
      "127.0.0.1 - - [29/Sep/2024 02:01:48] \"GET /current_sign HTTP/1.1\" 200 -\n"
     ]
    },
    {
     "name": "stdout",
     "output_type": "stream",
     "text": [
      "0: 480x640 (no detections), 285.6ms\n",
      "Speed: 1.0ms preprocess, 285.6ms inference, 0.0ms postprocess per image at shape (1, 3, 480, 640)\n",
      "\n",
      "0: 480x640 (no detections), 290.6ms\n",
      "Speed: 1.0ms preprocess, 290.6ms inference, 0.0ms postprocess per image at shape (1, 3, 480, 640)\n",
      "\n",
      "0: 480x640 (no detections), 285.9ms\n",
      "Speed: 2.0ms preprocess, 285.9ms inference, 0.0ms postprocess per image at shape (1, 3, 480, 640)\n",
      "\n"
     ]
    },
    {
     "name": "stderr",
     "output_type": "stream",
     "text": [
      "127.0.0.1 - - [29/Sep/2024 02:01:49] \"GET /current_sign HTTP/1.1\" 200 -\n"
     ]
    },
    {
     "name": "stdout",
     "output_type": "stream",
     "text": [
      "0: 480x640 (no detections), 296.6ms\n",
      "Speed: 2.0ms preprocess, 296.6ms inference, 1.0ms postprocess per image at shape (1, 3, 480, 640)\n",
      "\n",
      "0: 480x640 (no detections), 299.6ms\n",
      "Speed: 2.0ms preprocess, 299.6ms inference, 0.0ms postprocess per image at shape (1, 3, 480, 640)\n",
      "\n",
      "0: 480x640 (no detections), 290.6ms\n",
      "Speed: 1.0ms preprocess, 290.6ms inference, 1.0ms postprocess per image at shape (1, 3, 480, 640)\n",
      "\n"
     ]
    },
    {
     "name": "stderr",
     "output_type": "stream",
     "text": [
      "127.0.0.1 - - [29/Sep/2024 02:01:50] \"GET /current_sign HTTP/1.1\" 200 -\n"
     ]
    },
    {
     "name": "stdout",
     "output_type": "stream",
     "text": [
      "0: 480x640 (no detections), 295.6ms\n",
      "Speed: 2.0ms preprocess, 295.6ms inference, 1.0ms postprocess per image at shape (1, 3, 480, 640)\n",
      "\n"
     ]
    },
    {
     "name": "stderr",
     "output_type": "stream",
     "text": [
      "127.0.0.1 - - [29/Sep/2024 02:01:50] \"POST /clear_sign HTTP/1.1\" 200 -\n"
     ]
    },
    {
     "name": "stdout",
     "output_type": "stream",
     "text": [
      "0: 480x640 (no detections), 291.6ms\n",
      "Speed: 2.0ms preprocess, 291.6ms inference, 0.0ms postprocess per image at shape (1, 3, 480, 640)\n",
      "\n",
      "0: 480x640 (no detections), 288.6ms\n",
      "Speed: 2.0ms preprocess, 288.6ms inference, 1.0ms postprocess per image at shape (1, 3, 480, 640)\n",
      "\n"
     ]
    },
    {
     "name": "stderr",
     "output_type": "stream",
     "text": [
      "127.0.0.1 - - [29/Sep/2024 02:01:51] \"GET /current_sign HTTP/1.1\" 200 -\n"
     ]
    },
    {
     "name": "stdout",
     "output_type": "stream",
     "text": [
      "0: 480x640 (no detections), 300.6ms\n",
      "Speed: 2.0ms preprocess, 300.6ms inference, 1.0ms postprocess per image at shape (1, 3, 480, 640)\n",
      "\n",
      "0: 480x640 (no detections), 298.6ms\n",
      "Speed: 2.0ms preprocess, 298.6ms inference, 1.0ms postprocess per image at shape (1, 3, 480, 640)\n",
      "\n",
      "0: 480x640 (no detections), 296.6ms\n",
      "Speed: 1.0ms preprocess, 296.6ms inference, 0.0ms postprocess per image at shape (1, 3, 480, 640)\n",
      "\n"
     ]
    },
    {
     "name": "stderr",
     "output_type": "stream",
     "text": [
      "127.0.0.1 - - [29/Sep/2024 02:01:52] \"GET /current_sign HTTP/1.1\" 200 -\n"
     ]
    },
    {
     "name": "stdout",
     "output_type": "stream",
     "text": [
      "0: 480x640 (no detections), 299.6ms\n",
      "Speed: 2.0ms preprocess, 299.6ms inference, 1.0ms postprocess per image at shape (1, 3, 480, 640)\n",
      "\n",
      "0: 480x640 (no detections), 287.6ms\n",
      "Speed: 1.0ms preprocess, 287.6ms inference, 1.0ms postprocess per image at shape (1, 3, 480, 640)\n",
      "\n",
      "0: 480x640 (no detections), 322.6ms\n",
      "Speed: 2.0ms preprocess, 322.6ms inference, 0.0ms postprocess per image at shape (1, 3, 480, 640)\n",
      "\n",
      "0: 480x640 (no detections), 287.6ms\n",
      "Speed: 2.0ms preprocess, 287.6ms inference, 0.0ms postprocess per image at shape (1, 3, 480, 640)\n"
     ]
    }
   ],
   "source": [
    "from flask import Flask, Response, render_template, send_file, jsonify, request\n",
    "import cv2\n",
    "import math\n",
    "import mediapipe as mp\n",
    "from ultralytics import YOLO\n",
    "from gtts import gTTS\n",
    "import io\n",
    "\n",
    "# Initialize Flask app\n",
    "app = Flask(__name__)\n",
    "\n",
    "# Load YOLO model\n",
    "model_yolo = YOLO(r\"C:\\Users\\srika\\Downloads\\signlanguage.pt\")\n",
    "\n",
    "# MediaPipe setup\n",
    "mp_hands = mp.solutions.hands\n",
    "hands = mp_hands.Hands(max_num_hands=2)\n",
    "mp_drawing = mp.solutions.drawing_utils\n",
    "\n",
    "# Define class names\n",
    "classNames = [\"hello\", \"I love you\", \"please\", \"yes\", \"how\", \"thanks\", \"what\", \"name\", \"you\"]\n",
    "\n",
    "# Global variable to store the current detected sign\n",
    "current_sign = \"\"\n",
    "\n",
    "def generate_frames():\n",
    "    global current_sign\n",
    "    cap = cv2.VideoCapture(0)  # Start webcam\n",
    "    cap.set(3, 640)  # Set width\n",
    "    cap.set(4, 640)  # Set height\n",
    "\n",
    "    while True:\n",
    "        success, img = cap.read()\n",
    "        if not success:\n",
    "            break\n",
    "\n",
    "        img_rgb = cv2.cvtColor(img, cv2.COLOR_BGR2RGB)\n",
    "        hand_results = hands.process(img_rgb)  # Process hand detection\n",
    "\n",
    "        detected_sign = \"\"  # Local variable for detected sign\n",
    "\n",
    "        # Use YOLO for sign detection\n",
    "        results = model_yolo(img, stream=True)\n",
    "\n",
    "        # Process YOLO results\n",
    "        for r in results:\n",
    "            boxes = r.boxes\n",
    "            for box in boxes:\n",
    "                x1, y1, x2, y2 = map(int, box.xyxy[0])\n",
    "                cv2.rectangle(img, (x1, y1), (x2, y2), (255, 0, 255), 3)\n",
    "\n",
    "                confidence = math.ceil((box.conf[0] * 100)) / 100\n",
    "                cls = int(box.cls[0])\n",
    "                detected_text = classNames[cls]\n",
    "\n",
    "                if confidence >= 0.40:\n",
    "                    detected_sign = detected_text\n",
    "                    org = [x1, y1]\n",
    "                    font = cv2.FONT_HERSHEY_SIMPLEX\n",
    "                    fontScale = 2\n",
    "                    color = (0, 255, 0)\n",
    "                    thickness = 2\n",
    "                    cv2.putText(img, detected_text, org, font, fontScale, color, thickness)\n",
    "\n",
    "        # Update the global variable with the detected sign only if no sign has been set\n",
    "        if detected_sign and not current_sign:\n",
    "            current_sign = detected_sign\n",
    "\n",
    "        # Draw hand landmarks using MediaPipe\n",
    "        if hand_results.multi_hand_landmarks:\n",
    "            for hand_landmarks in hand_results.multi_hand_landmarks:\n",
    "                mp_drawing.draw_landmarks(img, hand_landmarks, mp_hands.HAND_CONNECTIONS)\n",
    "\n",
    "        # Convert image to JPEG format\n",
    "        ret, buffer = cv2.imencode('.jpg', img)\n",
    "        if not ret:\n",
    "            continue\n",
    "\n",
    "        frame = buffer.tobytes()\n",
    "        yield (b'--frame\\r\\n'\n",
    "               b'Content-Type: image/jpeg\\r\\n\\r\\n' + frame + b'\\r\\n')\n",
    "\n",
    "    cap.release()\n",
    "\n",
    "@app.route('/')\n",
    "def index():\n",
    "    return render_template('index.html')\n",
    "\n",
    "@app.route('/video_feed')\n",
    "def video_feed():\n",
    "    return Response(generate_frames(), mimetype='multipart/x-mixed-replace; boundary=frame')\n",
    "\n",
    "@app.route('/audio/<sign>')\n",
    "def audio(sign):\n",
    "    if sign in classNames:\n",
    "        tts = gTTS(text=sign, lang='en')\n",
    "        audio_stream = io.BytesIO()\n",
    "        tts.write_to_fp(audio_stream)\n",
    "        audio_stream.seek(0)\n",
    "        return send_file(audio_stream, mimetype='audio/mpeg', as_attachment=False, download_name=f\"{sign}.mp3\")\n",
    "    return \"Audio not found\", 404\n",
    "\n",
    "@app.route('/clear_sign', methods=['POST'])\n",
    "def clear_sign():\n",
    "    global current_sign\n",
    "    current_sign = \"\"  # Clear the current sign\n",
    "    return jsonify(success=True)\n",
    "\n",
    "@app.route('/current_sign')\n",
    "def get_current_sign():\n",
    "    # Return the current detected sign as JSON\n",
    "    return jsonify(sign=current_sign)\n",
    "\n",
    "if __name__ == \"__main__\":\n",
    "    app.run()\n"
   ]
  },
  {
   "cell_type": "code",
   "execution_count": null,
   "id": "2ff88bfb",
   "metadata": {},
   "outputs": [],
   "source": []
  },
  {
   "cell_type": "code",
   "execution_count": null,
   "id": "71fdf44a",
   "metadata": {},
   "outputs": [],
   "source": []
  }
 ],
 "metadata": {
  "kernelspec": {
   "display_name": "Python 3 (ipykernel)",
   "language": "python",
   "name": "python3"
  },
  "language_info": {
   "codemirror_mode": {
    "name": "ipython",
    "version": 3
   },
   "file_extension": ".py",
   "mimetype": "text/x-python",
   "name": "python",
   "nbconvert_exporter": "python",
   "pygments_lexer": "ipython3",
   "version": "3.9.13"
  }
 },
 "nbformat": 4,
 "nbformat_minor": 5
}
